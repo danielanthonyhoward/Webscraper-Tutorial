{
 "cells": [
  {
   "cell_type": "markdown",
   "id": "a4ab3dd9",
   "metadata": {},
   "source": [
    "# Imports"
   ]
  },
  {
   "cell_type": "code",
   "execution_count": null,
   "id": "c27e6742",
   "metadata": {},
   "outputs": [],
   "source": [
    "!pip install wordcloud"
   ]
  },
  {
   "cell_type": "code",
   "execution_count": 1,
   "id": "d085462d",
   "metadata": {},
   "outputs": [],
   "source": [
    "import pickle\n",
    "import matplotlib.pyplot as plt\n",
    "import numpy as np\n",
    "import pandas as pd\n",
    "from wordcloud import WordCloud, STOPWORDS"
   ]
  },
  {
   "cell_type": "code",
   "execution_count": 2,
   "id": "2aecc5de",
   "metadata": {},
   "outputs": [],
   "source": [
    "picklefile = open(r'H2020_projects_prepared', 'rb')\n",
    "projects = pickle.load(picklefile)"
   ]
  },
  {
   "cell_type": "markdown",
   "id": "625046f4",
   "metadata": {},
   "source": [
    "## Country"
   ]
  },
  {
   "cell_type": "code",
   "execution_count": null,
   "id": "c4cc6d57",
   "metadata": {},
   "outputs": [],
   "source": [
    "country = projects.groupby(\"Coordinator Country\")"
   ]
  },
  {
   "cell_type": "code",
   "execution_count": null,
   "id": "75dadad9",
   "metadata": {},
   "outputs": [],
   "source": [
    "plt.figure(figsize=(15,10))\n",
    "country.size().sort_values(ascending=False).plot.bar()\n",
    "plt.xticks(rotation=90)\n",
    "plt.xlabel(\"Coordinator Country\")\n",
    "plt.ylabel(\"Number of H2020 Projects\")\n",
    "plt.show()"
   ]
  },
  {
   "cell_type": "markdown",
   "id": "a1f37715",
   "metadata": {},
   "source": [
    "## Word Clouds"
   ]
  },
  {
   "cell_type": "code",
   "execution_count": null,
   "id": "5723d04e",
   "metadata": {},
   "outputs": [],
   "source": [
    "text = \" \".join(title for title in projects.Title)"
   ]
  },
  {
   "cell_type": "code",
   "execution_count": null,
   "id": "fc2e52b9",
   "metadata": {},
   "outputs": [],
   "source": [
    "wordcloud = WordCloud(max_words=100, background_color=\"white\",width=1600, height=1200).generate(text)\n",
    "plt.figure(figsize=(16,12))\n",
    "plt.imshow(wordcloud, interpolation='bilinear')\n",
    "plt.axis(\"off\")\n",
    "plt.show()"
   ]
  },
  {
   "cell_type": "code",
   "execution_count": null,
   "id": "ba9cb45b",
   "metadata": {},
   "outputs": [],
   "source": [
    "stopwords = set(STOPWORDS)\n",
    "stopwords.update([\"European\",\"Europe\",\"based\"])"
   ]
  },
  {
   "cell_type": "code",
   "execution_count": null,
   "id": "2dc161a6",
   "metadata": {},
   "outputs": [],
   "source": [
    "wordcloud = WordCloud(stopwords=stopwords, max_words=100, background_color=\"white\",width=1600, height=1200).generate(text)\n",
    "plt.figure(figsize=(16,12))\n",
    "plt.imshow(wordcloud, interpolation='bilinear')\n",
    "plt.axis(\"off\")\n",
    "plt.show()"
   ]
  },
  {
   "cell_type": "code",
   "execution_count": null,
   "id": "98ac0480",
   "metadata": {},
   "outputs": [],
   "source": [
    "project_year = projects.groupby(pd.Grouper(key='Start Date', axis=0, freq='Y'))"
   ]
  }
 ],
 "metadata": {
  "kernelspec": {
   "display_name": "Python 3 (ipykernel)",
   "language": "python",
   "name": "python3"
  },
  "language_info": {
   "codemirror_mode": {
    "name": "ipython",
    "version": 3
   },
   "file_extension": ".py",
   "mimetype": "text/x-python",
   "name": "python",
   "nbconvert_exporter": "python",
   "pygments_lexer": "ipython3",
   "version": "3.8.8"
  }
 },
 "nbformat": 4,
 "nbformat_minor": 5
}
